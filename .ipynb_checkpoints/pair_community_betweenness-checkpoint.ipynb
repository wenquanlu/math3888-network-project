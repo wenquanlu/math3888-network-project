{
 "cells": [
  {
   "cell_type": "markdown",
   "metadata": {},
   "source": [
    "$g(v) = \\sum_{s\\in target, t\\in neighbour, s\\neq v \\neq t}\\frac{\\sigma_{st}(v)}{\\sigma_{st}}$"
   ]
  },
  {
   "cell_type": "code",
   "execution_count": null,
   "metadata": {},
   "outputs": [],
   "source": [
    "# target_community: set of target community node names\n",
    "# neighbour_community: set of neighbour community node names\n",
    "# graph: G\n",
    "def pair_community_betweenness(target_community, neighbour_community, graph):\n",
    "\n",
    "    # dictionary, key: each node name in neighbour community, value: centrality\n",
    "    centrality = {}\n",
    "\n",
    "    for node in neighbour_community:\n",
    "        betweenness = 0\n",
    "        for each_t_node in target_community:\n",
    "            for each_n_node in neighbour_community:\n",
    "                if each_n_node != node:\n",
    "                    paths_t_n = list(nx.all_shortest_paths(graph, each_t_node, each_n_node))\n",
    "                    num_shortest_path_contain_node = 0\n",
    "                    for path in paths_t_n:\n",
    "                        if node in path:\n",
    "                            num_shortest_path_contain_node += 1\n",
    "                    betweenness += num_shortest_path_contain_node/len(paths_t_n)\n",
    "        centrality[node] = betweenness\n",
    "    return centrality\n"
   ]
  },
  {
   "cell_type": "code",
   "execution_count": null,
   "metadata": {},
   "outputs": [],
   "source": [
    "G1 = nx.empty_graph() #start with an empty graph object\n",
    "\n",
    "G1.add_node(\"0\") #add some nodes\n",
    "G1.add_node(\"1\")\n",
    "G1.add_node(\"2\")\n",
    "G1.add_node(\"3\")\n",
    "G1.add_node(\"4\")\n",
    "G1.add_node(\"5\")\n",
    "\n",
    "\n",
    "G1.add_edge(\"0\",\"1\") #add edges between the nodes\n",
    "G1.add_edge(\"1\",\"2\")\n",
    "G1.add_edge(\"2\",\"0\")\n",
    "\n",
    "G1.add_edge(\"3\",\"4\") #add edges between the nodes\n",
    "G1.add_edge(\"3\",\"5\")\n",
    "G1.add_edge(\"4\",\"5\")\n",
    "G1.add_edge(\"1\",\"3\")\n",
    "G1.add_edge(\"1\",\"5\")\n",
    "\n",
    "\n",
    "pair_community_betweenness({\"0\", \"1\", \"2\"}, {\"3\", \"4\", \"5\"}, G1)"
   ]
  }
 ],
 "metadata": {
  "kernelspec": {
   "display_name": "Python 3",
   "language": "python",
   "name": "python3"
  },
  "language_info": {
   "codemirror_mode": {
    "name": "ipython",
    "version": 3
   },
   "file_extension": ".py",
   "mimetype": "text/x-python",
   "name": "python",
   "nbconvert_exporter": "python",
   "pygments_lexer": "ipython3",
   "version": "3.7.4"
  },
  "vscode": {
   "interpreter": {
    "hash": "4da5de3bdb74a99190c5f8f7a7d74eee14598c1630ede76a7e2e31b50e0f5678"
   }
  }
 },
 "nbformat": 4,
 "nbformat_minor": 5
}
