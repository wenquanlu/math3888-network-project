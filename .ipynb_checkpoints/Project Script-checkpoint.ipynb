{
 "cells": [
  {
   "cell_type": "code",
   "execution_count": 2,
   "id": "c73e232f",
   "metadata": {},
   "outputs": [],
   "source": [
    "import networkx as nx\n",
    "from networkx.algorithms import community\n",
    "from community import community_louvain\n",
    "import numpy as np\n",
    "import scipy as sp\n",
    "import pandas as pd\n",
    "import markov_clustering as mc"
   ]
  },
  {
   "cell_type": "code",
   "execution_count": 3,
   "id": "61b5a1c1",
   "metadata": {},
   "outputs": [],
   "source": [
    "## preprocessing\n",
    "G0 = nx.read_weighted_edgelist(\"/Users/luwenquan/Desktop/Curr_Study/MATH3888/math3888-network-project/4932.protein.links.v11.5.txt\",comments=\"#\",nodetype=str)\n",
    "largest_cc = max(nx.connected_components(G0),key=len)\n",
    "G = G0.subgraph(largest_cc)"
   ]
  },
  {
   "cell_type": "code",
   "execution_count": 4,
   "id": "a010e54e",
   "metadata": {},
   "outputs": [],
   "source": [
    "def generate_louvain_result_for_ensemble(graph, resolution, iteration):\n",
    "    result = []\n",
    "    for i in range(iteration):\n",
    "        partition = community_louvain.best_partition(graph, resolution=resolution)\n",
    "        result.append([partition[key] for key in sorted(partition)])\n",
    "        print(\"Number of clusters: {}\".format(max(partition.values()) + 1))\n",
    "    return result\n",
    "\n",
    "def generate_markov_result_for_ensemble(graph, inflation, iteration):\n",
    "    result = []\n",
    "    for i in range(iteration):\n",
    "        matrix = nx.to_scipy_sparse_matrix(graph)\n",
    "        mc_result = mc.run_mcl(matrix, inflation=inflation)\n",
    "        mc_clusters = mc.get_clusters(mc_result)\n",
    "        print(\"Number of clusters: {}\".format(len(mc_clusters)))\n",
    "        row = []\n",
    "        for node in sorted(list(graph.nodes())):\n",
    "            index_in_matrix = list(graph.nodes()).index(node)\n",
    "            for i in range(len(mc_clusters)):\n",
    "                if index_in_matrix in mc_clusters[i]:\n",
    "                    row.append(i)      \n",
    "        result.append(row)\n",
    "    return result"
   ]
  },
  {
   "cell_type": "code",
   "execution_count": 5,
   "id": "ed10d2ee",
   "metadata": {},
   "outputs": [
    {
     "name": "stderr",
     "output_type": "stream",
     "text": [
      "/var/folders/3c/jq9gw9zn1397zmz_h_jxxnjm0000gn/T/ipykernel_10364/33461613.py:12: DeprecationWarning: \n",
      "\n",
      "The scipy.sparse array containers will be used instead of matrices\n",
      "in Networkx 3.0. Use `to_scipy_sparse_array` instead.\n",
      "  matrix = nx.to_scipy_sparse_matrix(graph)\n"
     ]
    },
    {
     "name": "stdout",
     "output_type": "stream",
     "text": [
      "Number of clusters: 841\n"
     ]
    }
   ],
   "source": [
    "res = generate_markov_result_for_ensemble(G, 2.5, 1)"
   ]
  },
  {
   "cell_type": "code",
   "execution_count": null,
   "id": "0d590900",
   "metadata": {},
   "outputs": [],
   "source": []
  }
 ],
 "metadata": {
  "kernelspec": {
   "display_name": "Python 3 (ipykernel)",
   "language": "python",
   "name": "python3"
  },
  "language_info": {
   "codemirror_mode": {
    "name": "ipython",
    "version": 3
   },
   "file_extension": ".py",
   "mimetype": "text/x-python",
   "name": "python",
   "nbconvert_exporter": "python",
   "pygments_lexer": "ipython3",
   "version": "3.9.12"
  }
 },
 "nbformat": 4,
 "nbformat_minor": 5
}
