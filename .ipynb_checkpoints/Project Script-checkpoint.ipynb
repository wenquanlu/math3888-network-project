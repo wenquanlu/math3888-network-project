{
 "cells": [
  {
   "cell_type": "code",
   "execution_count": 13,
   "id": "c73e232f",
   "metadata": {},
   "outputs": [],
   "source": [
    "import networkx as nx\n",
    "from networkx.algorithms import community\n",
    "from community import community_louvain\n",
    "import numpy as np\n",
    "import scipy as sp\n",
    "import pandas as pd\n",
    "import markov_clustering as mc"
   ]
  },
  {
   "cell_type": "code",
   "execution_count": 14,
   "id": "61b5a1c1",
   "metadata": {},
   "outputs": [],
   "source": [
    "## preprocessing\n",
    "G0 = nx.read_weighted_edgelist(\"/Users/luwenquan/Desktop/Curr_Study/MATH3888/math3888-network-project/4932.protein.links.v11.5.txt\",comments=\"#\",nodetype=str)\n"
   ]
  },
  {
   "cell_type": "code",
   "execution_count": 32,
   "id": "5fbb0fdc",
   "metadata": {},
   "outputs": [],
   "source": [
    "essential_proteins = pd.read_csv(\"essential_proteins.csv\", header = None)\n",
    "\n",
    "for node in list(G0.nodes()):\n",
    "    if node[5:] in list(essential_proteins[1]):\n",
    "        G0.remove_node(node)"
   ]
  },
  {
   "cell_type": "code",
   "execution_count": 33,
   "id": "482391be",
   "metadata": {},
   "outputs": [
    {
     "data": {
      "text/plain": [
       "5098"
      ]
     },
     "execution_count": 33,
     "metadata": {},
     "output_type": "execute_result"
    }
   ],
   "source": [
    "len(list(G0.nodes()))"
   ]
  },
  {
   "cell_type": "code",
   "execution_count": 34,
   "id": "143e2c91",
   "metadata": {},
   "outputs": [
    {
     "name": "stdout",
     "output_type": "stream",
     "text": [
      "5064\n"
     ]
    }
   ],
   "source": [
    "largest_cc = max(nx.connected_components(G0),key=len)\n",
    "G = G0.subgraph(largest_cc)"
   ]
  },
  {
   "cell_type": "code",
   "execution_count": 4,
   "id": "a010e54e",
   "metadata": {},
   "outputs": [],
   "source": [
    "def generate_louvain_result_for_ensemble(graph, resolution, iteration):\n",
    "    result = []\n",
    "    for i in range(iteration):\n",
    "        partition = community_louvain.best_partition(graph, resolution=resolution)\n",
    "        result.append([partition[key] for key in sorted(partition)])\n",
    "        print(\"Number of clusters: {}\".format(max(partition.values()) + 1))\n",
    "    return result\n",
    "\n",
    "def generate_markov_result_for_ensemble(graph, inflation, iteration):\n",
    "    result = []\n",
    "    for i in range(iteration):\n",
    "        matrix = nx.to_scipy_sparse_matrix(graph)\n",
    "        mc_result = mc.run_mcl(matrix, inflation=inflation)\n",
    "        mc_clusters = mc.get_clusters(mc_result)\n",
    "        print(\"Number of clusters: {}\".format(len(mc_clusters)))\n",
    "        row = []\n",
    "        for node in sorted(list(graph.nodes())):\n",
    "            index_in_matrix = list(graph.nodes()).index(node)\n",
    "            for i in range(len(mc_clusters)):\n",
    "                if index_in_matrix in mc_clusters[i]:\n",
    "                    row.append(i)      \n",
    "        result.append(row)\n",
    "    return result"
   ]
  },
  {
   "cell_type": "code",
   "execution_count": 47,
   "id": "0f5a654f",
   "metadata": {},
   "outputs": [
    {
     "data": {
      "text/plain": [
       "True"
      ]
     },
     "execution_count": 47,
     "metadata": {},
     "output_type": "execute_result"
    }
   ],
   "source": [
    "nx.connected.is_connected(G)"
   ]
  },
  {
   "cell_type": "code",
   "execution_count": 41,
   "id": "0d590900",
   "metadata": {},
   "outputs": [
    {
     "name": "stdout",
     "output_type": "stream",
     "text": [
      "Number of clusters: 383\n",
      "Number of clusters: 370\n",
      "Number of clusters: 382\n",
      "Number of clusters: 376\n",
      "Number of clusters: 391\n",
      "Number of clusters: 375\n",
      "Number of clusters: 382\n",
      "Number of clusters: 383\n",
      "Number of clusters: 381\n",
      "Number of clusters: 373\n"
     ]
    }
   ],
   "source": [
    "louvain_data = generate_louvain_result_for_ensemble(G, 0.1, 10)\n",
    "louvain_np_array = np.array(louvain_data)\n"
   ]
  },
  {
   "cell_type": "code",
   "execution_count": 42,
   "id": "1c85181b",
   "metadata": {},
   "outputs": [],
   "source": [
    "#with open(\"./louvain_data.npy\", \"wb\") as f:\n",
    "#    np.save(f, louvain_np_array)"
   ]
  },
  {
   "cell_type": "code",
   "execution_count": 44,
   "id": "182c0739",
   "metadata": {},
   "outputs": [
    {
     "name": "stdout",
     "output_type": "stream",
     "text": [
      "(10, 5064)\n"
     ]
    }
   ],
   "source": [
    "#with open(\"./louvain_data.npy\", \"rb\") as f:\n",
    "#    E = np.load(f)\n",
    "#    print(E.shape)"
   ]
  },
  {
   "cell_type": "code",
   "execution_count": 50,
   "id": "ba8a48e7",
   "metadata": {},
   "outputs": [],
   "source": [
    "#sorted_node = np.array(sorted(list(G.nodes())))\n",
    "#with open(\"./sorted_node.npy\", \"wb\") as f:\n",
    "#    np.save(f, sorted_node)\n"
   ]
  },
  {
   "cell_type": "code",
   "execution_count": 53,
   "id": "65b5e226",
   "metadata": {},
   "outputs": [
    {
     "name": "stderr",
     "output_type": "stream",
     "text": [
      "/var/folders/3c/jq9gw9zn1397zmz_h_jxxnjm0000gn/T/ipykernel_12352/531766813.py:1: FutureWarning: adjacency_matrix will return a scipy.sparse array instead of a matrix in Networkx 3.0.\n",
      "  nx.adjacency_matrix(G).toarray()\n"
     ]
    },
    {
     "data": {
      "text/plain": [
       "array([[  0., 347., 945., ...,   0.,   0.,   0.],\n",
       "       [347.,   0.,   0., ...,   0.,   0.,   0.],\n",
       "       [945.,   0.,   0., ...,   0.,   0.,   0.],\n",
       "       ...,\n",
       "       [  0.,   0.,   0., ...,   0.,   0.,   0.],\n",
       "       [  0.,   0.,   0., ...,   0.,   0.,   0.],\n",
       "       [  0.,   0.,   0., ...,   0.,   0.,   0.]])"
      ]
     },
     "execution_count": 53,
     "metadata": {},
     "output_type": "execute_result"
    }
   ],
   "source": [
    "nx.adjacency_matrix(G).toarray()"
   ]
  },
  {
   "cell_type": "code",
   "execution_count": null,
   "id": "bcc4f36d",
   "metadata": {},
   "outputs": [],
   "source": []
  }
 ],
 "metadata": {
  "kernelspec": {
   "display_name": "Python 3 (ipykernel)",
   "language": "python",
   "name": "python3"
  },
  "language_info": {
   "codemirror_mode": {
    "name": "ipython",
    "version": 3
   },
   "file_extension": ".py",
   "mimetype": "text/x-python",
   "name": "python",
   "nbconvert_exporter": "python",
   "pygments_lexer": "ipython3",
   "version": "3.9.12"
  }
 },
 "nbformat": 4,
 "nbformat_minor": 5
}
