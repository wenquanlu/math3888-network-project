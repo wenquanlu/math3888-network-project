{
 "cells": [
  {
   "cell_type": "code",
   "execution_count": 12,
   "metadata": {
    "scrolled": true
   },
   "outputs": [],
   "source": [
    "import networkx as nx\n",
    "from networkx.algorithms import community\n",
    "from community import community_louvain\n",
    "import numpy as np\n",
    "import scipy as sp\n",
    "import pandas as pd\n",
    "import markov_clustering as mc\n",
    "import pickle"
   ]
  },
  {
   "cell_type": "code",
   "execution_count": 13,
   "metadata": {},
   "outputs": [],
   "source": [
    "## preprocessing\n",
    "G0 = nx.read_weighted_edgelist(\"4932.protein.links.v11.5.txt\",comments=\"#\",nodetype=str)\n"
   ]
  },
  {
   "cell_type": "code",
   "execution_count": 14,
   "metadata": {},
   "outputs": [],
   "source": [
    "essential_proteins = pd.read_csv(\"essential_proteins.csv\", header = None)\n",
    "\n",
    "for node in list(G0.nodes()):\n",
    "    if node[5:] in list(essential_proteins[1]):\n",
    "        G0.remove_node(node)"
   ]
  },
  {
   "cell_type": "code",
   "execution_count": 15,
   "metadata": {},
   "outputs": [],
   "source": [
    "largest_cc = max(nx.connected_components(G0),key=len)\n",
    "G = G0.subgraph(largest_cc)"
   ]
  },
  {
   "cell_type": "code",
   "execution_count": 16,
   "metadata": {},
   "outputs": [],
   "source": [
    "centrality = nx.eigenvector_centrality(G)\n",
    "centrality = sorted((v, f\"{c:0.2f}\") for v, c in centrality.items())"
   ]
  },
  {
   "cell_type": "code",
   "execution_count": 10,
   "metadata": {},
   "outputs": [
    {
     "name": "stdout",
     "output_type": "stream",
     "text": [
      "['4932.YGL007W', '4932.YOR183W', '4932.YOL075C', '4932.YDR528W', '4932.YMR169C']\n",
      "['4932.YMR232W', '4932.YLR398C', '4932.YPR061C', '4932.YGR286C', '4932.YOL052C-A']\n",
      "['4932.YER066C-A', '4932.YHR151C', '4932.YLR040C', '4932.YFL064C', '4932.YMR230W-A']\n",
      "['4932.YPR007C', '4932.YGL089C', '4932.YOL015W', '4932.YOR343W-A', '4932.YLR250W']\n",
      "['4932.YBL100W-C', '4932.YIL141W', '4932.YDR365W-B', '4932.YLR160C', '4932.YAR064W']\n"
     ]
    }
   ],
   "source": [
    "with open('neighbouring_clusters_complete_mean_minus.pickle', 'rb') as f:\n",
    "    neighbours = pickle.load(f)\n",
    "max_centrality_nodes=[] \n",
    "for cluster in neighbours[0:5]:\n",
    "    cluster_centrality = {k: centrality[k] for k in cluster}\n",
    "    maxes = []\n",
    "    for i in range(5):\n",
    "        currentmax = max(cluster_centrality, key=cluster_centrality.get)\n",
    "        maxes.append(currentmax)\n",
    "        del cluster_centrality[currentmax]\n",
    "    max_centrality_nodes.append(maxes)\n",
    "# max_centrality_nodes[i] is the node with maximum centrality from cluster i\n",
    "max_centrality_nodes\n",
    "node_names = list(G.nodes())\n",
    "\n",
    "for cluster in max_centrality_nodes:\n",
    "    group = []\n",
    "    for node in cluster:\n",
    "        group.append(node_names[node])\n",
    "    print(group)"
   ]
  },
  {
   "cell_type": "code",
   "execution_count": 27,
   "metadata": {},
   "outputs": [
    {
     "name": "stdout",
     "output_type": "stream",
     "text": [
      "{385, 255, 388, 392, 268, 142, 1807, 402, 23, 279, 288, 167, 39, 168, 181, 4281, 4283, 75, 332, 336, 344, 89, 345, 347, 351, 96, 353, 4320, 1379, 1891, 357, 2409, 364, 365, 2156, 239, 368, 369, 4207, 372, 373, 374, 377, 378, 123, 383}\n"
     ]
    },
    {
     "ename": "TypeError",
     "evalue": "list indices must be integers or slices, not set",
     "output_type": "error",
     "traceback": [
      "\u001b[1;31m---------------------------------------------------------------------------\u001b[0m",
      "\u001b[1;31mTypeError\u001b[0m                                 Traceback (most recent call last)",
      "\u001b[1;32m<ipython-input-27-aef54302a285>\u001b[0m in \u001b[0;36m<module>\u001b[1;34m\u001b[0m\n\u001b[0;32m      7\u001b[0m \u001b[1;31m#G.subgraph(target.union(cluster))\u001b[0m\u001b[1;33m\u001b[0m\u001b[1;33m\u001b[0m\u001b[1;33m\u001b[0m\u001b[0m\n\u001b[0;32m      8\u001b[0m \u001b[1;32mfor\u001b[0m \u001b[0mcluster\u001b[0m \u001b[1;32min\u001b[0m \u001b[0mneighbours\u001b[0m\u001b[1;33m[\u001b[0m\u001b[1;36m0\u001b[0m\u001b[1;33m:\u001b[0m\u001b[1;36m1\u001b[0m\u001b[1;33m]\u001b[0m\u001b[1;33m:\u001b[0m\u001b[1;33m\u001b[0m\u001b[1;33m\u001b[0m\u001b[0m\n\u001b[1;32m----> 9\u001b[1;33m     \u001b[0mbetweenness\u001b[0m \u001b[1;33m=\u001b[0m \u001b[0mpair_community_betweenness\u001b[0m\u001b[1;33m(\u001b[0m\u001b[0mG\u001b[0m\u001b[1;33m.\u001b[0m\u001b[0msubgraph\u001b[0m\u001b[1;33m(\u001b[0m\u001b[0mtarget\u001b[0m\u001b[1;33m)\u001b[0m\u001b[1;33m,\u001b[0m \u001b[0mG\u001b[0m\u001b[1;33m.\u001b[0m\u001b[0msubgraph\u001b[0m\u001b[1;33m(\u001b[0m\u001b[0mneighbours\u001b[0m\u001b[1;33m[\u001b[0m\u001b[0mcluster\u001b[0m\u001b[1;33m]\u001b[0m\u001b[1;33m)\u001b[0m\u001b[1;33m,\u001b[0m \u001b[0mG\u001b[0m\u001b[1;33m)\u001b[0m\u001b[1;33m\u001b[0m\u001b[1;33m\u001b[0m\u001b[0m\n\u001b[0m\u001b[0;32m     10\u001b[0m     \u001b[0mbetweenness\u001b[0m \u001b[1;33m=\u001b[0m \u001b[1;33m{\u001b[0m\u001b[0mk\u001b[0m\u001b[1;33m:\u001b[0m\u001b[0mv\u001b[0m \u001b[1;32mfor\u001b[0m \u001b[0mk\u001b[0m\u001b[1;33m,\u001b[0m\u001b[0mv\u001b[0m \u001b[1;32min\u001b[0m \u001b[0msorted\u001b[0m\u001b[1;33m(\u001b[0m\u001b[0mbetweenness\u001b[0m\u001b[1;33m.\u001b[0m\u001b[0mitems\u001b[0m\u001b[1;33m(\u001b[0m\u001b[1;33m)\u001b[0m\u001b[1;33m,\u001b[0m \u001b[0mkey\u001b[0m\u001b[1;33m=\u001b[0m\u001b[1;32mlambda\u001b[0m \u001b[0mitem\u001b[0m\u001b[1;33m:\u001b[0m \u001b[0mitem\u001b[0m\u001b[1;33m[\u001b[0m\u001b[1;36m1\u001b[0m\u001b[1;33m]\u001b[0m\u001b[1;33m,\u001b[0m \u001b[0mreverse\u001b[0m\u001b[1;33m=\u001b[0m\u001b[1;32mTrue\u001b[0m\u001b[1;33m)\u001b[0m\u001b[1;33m}\u001b[0m\u001b[1;33m\u001b[0m\u001b[1;33m\u001b[0m\u001b[0m\n\u001b[0;32m     11\u001b[0m \u001b[1;33m\u001b[0m\u001b[0m\n",
      "\u001b[1;31mTypeError\u001b[0m: list indices must be integers or slices, not set"
     ]
    }
   ],
   "source": [
    "from ipynb.fs.full.pair_community_betweenness import pair_community_betweenness\n",
    "with open('neighbouring_clusters_complete_mean_minus.pickle', 'rb') as f:\n",
    "    neighbours = pickle.load(f)\n",
    "with open('target_cluster.pickle', 'rb') as f:\n",
    "    target = pickle.load(f)\n",
    "print(neighbours[0])\n",
    "#G.subgraph(target.union(cluster))\n",
    "for cluster in neighbours[0:1]:\n",
    "    betweenness = pair_community_betweenness(G.subgraph(target), G.subgraph(neighbours[cluster]), G)\n",
    "    betweenness = {k:v for k,v in sorted(betweenness.items(), key=lambda item: item[1], reverse=True)}\n",
    "    \n",
    "    print(betweenness)\n"
   ]
  },
  {
   "cell_type": "code",
   "execution_count": 20,
   "metadata": {},
   "outputs": [
    {
     "name": "stdout",
     "output_type": "stream",
     "text": [
      "['4932.YGL007W', '4932.YOR183W', '4932.YOL075C', '4932.YDR528W', '4932.YMR169C']\n",
      "['4932.YMR232W', '4932.YLR398C', '4932.YPR061C', '4932.YGR286C', '4932.YOL052C-A']\n",
      "['4932.YER066C-A', '4932.YHR151C', '4932.YLR040C', '4932.YFL064C', '4932.YMR230W-A']\n",
      "['4932.YPR007C', '4932.YGL089C', '4932.YOL015W', '4932.YOR343W-A', '4932.YLR250W']\n",
      "['4932.YBL100W-C', '4932.YIL141W', '4932.YDR365W-B', '4932.YLR160C', '4932.YAR064W']\n"
     ]
    }
   ],
   "source": [
    "max_centrality_nodes=[] \n",
    "for cluster in neighbours[0:5]:\n",
    "    cluster_centrality = {k: centrality[k] for k in cluster}\n",
    "    maxes = []\n",
    "    for i in range(5):\n",
    "        currentmax = max(cluster_centrality, key=cluster_centrality.get)\n",
    "        maxes.append(currentmax)\n",
    "        del cluster_centrality[currentmax]\n",
    "    max_centrality_nodes.append(maxes)\n",
    "# max_centrality_nodes[i] is the node with maximum centrality from cluster i\n",
    "max_centrality_nodes\n",
    "node_names = list(G.nodes())\n",
    "\n",
    "for cluster in max_centrality_nodes:\n",
    "    group = []\n",
    "    for node in cluster:\n",
    "        group.append(node_names[node])\n",
    "    print(group)"
   ]
  },
  {
   "cell_type": "code",
   "execution_count": 21,
   "metadata": {
    "scrolled": false
   },
   "outputs": [],
   "source": [
    "with open('neighbouring_clusters_sum.pickle', 'rb') as f:\n",
    "    neighbours = pickle.load(f)\n",
    "    #for i in range(len(neighbours)):\n",
    "        #print(len(neighbours[i].intersection(neighbours2[i]))/len(neighbours[i].union(neighbours2[i])))\n",
    "\n",
    "max_centrality_nodes=[] \n",
    "for cluster in neighbours[0:5]:\n",
    "    cluster_centrality = {k: centrality[k] for k in cluster}\n",
    "    maxes = []\n",
    "    for i in range(5):\n",
    "        currentmax = max(cluster_centrality, key=cluster_centrality.get)\n",
    "        maxes.append(currentmax)\n",
    "        del cluster_centrality[currentmax]\n",
    "    max_centrality_nodes.append(maxes)\n",
    "# max_centrality_nodes[i] is the node with maximum centrality from cluster i"
   ]
  },
  {
   "cell_type": "code",
   "execution_count": 22,
   "metadata": {},
   "outputs": [
    {
     "name": "stdout",
     "output_type": "stream",
     "text": [
      "['4932.YGL007W', '4932.YOR183W', '4932.YOL075C', '4932.YDR528W', '4932.YMR169C']\n",
      "['4932.YPR007C', '4932.YGL089C', '4932.YOL015W', '4932.YOR343W-A', '4932.YLR250W']\n",
      "['4932.YER066C-A', '4932.YHR151C', '4932.YLR040C', '4932.YFL064C', '4932.YMR230W-A']\n",
      "['4932.YAR066W', '4932.YER137C-A', '4932.YLR091W', '4932.YAL031C', '4932.YOR348C']\n",
      "['4932.YBL100W-C', '4932.YIL141W', '4932.YDR365W-B', '4932.YLR160C', '4932.YAR064W']\n"
     ]
    }
   ],
   "source": [
    "max_centrality_nodes\n",
    "node_names = list(G.nodes())\n",
    "\n",
    "for cluster in max_centrality_nodes:\n",
    "    group = []\n",
    "    for node in cluster:\n",
    "        group.append(node_names[node])\n",
    "    print(group)"
   ]
  },
  {
   "cell_type": "code",
   "execution_count": 23,
   "metadata": {},
   "outputs": [],
   "source": [
    "with open('neighbouring_clusters_minus.pickle', 'rb') as f:\n",
    "    neighbours = pickle.load(f)\n",
    "max_centrality_nodes=[] \n",
    "for cluster in neighbours[0:5]:\n",
    "    cluster_centrality = {k: centrality[k] for k in cluster}\n",
    "    maxes = []\n",
    "    for i in range(5):\n",
    "        currentmax = max(cluster_centrality, key=cluster_centrality.get)\n",
    "        maxes.append(currentmax)\n",
    "        del cluster_centrality[currentmax]\n",
    "    max_centrality_nodes.append(maxes)\n",
    "# max_centrality_nodes[i] is the node with maximum centrality from cluster i"
   ]
  },
  {
   "cell_type": "code",
   "execution_count": 24,
   "metadata": {},
   "outputs": [
    {
     "name": "stdout",
     "output_type": "stream",
     "text": [
      "['4932.YGL007W', '4932.YOR183W', '4932.YOL075C', '4932.YDR528W', '4932.YMR169C']\n",
      "['4932.YPR007C', '4932.YGL089C', '4932.YOL015W', '4932.YOR343W-A', '4932.YLR250W']\n",
      "['4932.YER066C-A', '4932.YHR151C', '4932.YLR040C', '4932.YFL064C', '4932.YMR230W-A']\n",
      "['4932.YAR066W', '4932.YER137C-A', '4932.YLR091W', '4932.YAL031C', '4932.YOR348C']\n",
      "['4932.YBL100W-C', '4932.YIL141W', '4932.YDR365W-B', '4932.YLR160C', '4932.YAR064W']\n"
     ]
    }
   ],
   "source": [
    "max_centrality_nodes\n",
    "node_names = list(G.nodes())\n",
    "\n",
    "for cluster in max_centrality_nodes:\n",
    "    group = []\n",
    "    for node in cluster:\n",
    "        group.append(node_names[node])\n",
    "    print(group)\n"
   ]
  },
  {
   "cell_type": "code",
   "execution_count": 25,
   "metadata": {},
   "outputs": [
    {
     "name": "stdout",
     "output_type": "stream",
     "text": [
      "['4932.YGL007W', '4932.YOR183W', '4932.YOL075C', '4932.YDR528W', '4932.YMR169C']\n",
      "['4932.YPR007C', '4932.YGL089C', '4932.YOL015W', '4932.YOR343W-A', '4932.YLR250W']\n",
      "['4932.YER066C-A', '4932.YHR151C', '4932.YLR040C', '4932.YFL064C', '4932.YMR230W-A']\n",
      "['4932.YAR066W', '4932.YER137C-A', '4932.YLR091W', '4932.YAL031C', '4932.YOR348C']\n",
      "['4932.YBL100W-C', '4932.YIL141W', '4932.YDR365W-B', '4932.YLR160C', '4932.YAR064W']\n"
     ]
    }
   ],
   "source": [
    "centrality = nx.degree_centrality(G)\n",
    "centrality = sorted((v, f\"{c:0.2f}\") for v, c in centrality.items())\n",
    "with open('neighbouring_clusters_sum.pickle', 'rb') as f:\n",
    "    neighbours = pickle.load(f)\n",
    "max_centrality_nodes=[] \n",
    "for cluster in neighbours[0:5]:\n",
    "    cluster_centrality = {k: centrality[k] for k in cluster}\n",
    "    maxes = []\n",
    "    for i in range(5):\n",
    "        currentmax = max(cluster_centrality, key=cluster_centrality.get)\n",
    "        maxes.append(currentmax)\n",
    "        del cluster_centrality[currentmax]\n",
    "    max_centrality_nodes.append(maxes)\n",
    "# max_centrality_nodes[i] is the node with maximum centrality from cluster i\n",
    "max_centrality_nodes\n",
    "node_names = list(G.nodes())\n",
    "\n",
    "for cluster in max_centrality_nodes:\n",
    "    group = []\n",
    "    for node in cluster:\n",
    "        group.append(node_names[node])\n",
    "    print(group)"
   ]
  },
  {
   "cell_type": "code",
   "execution_count": null,
   "metadata": {},
   "outputs": [],
   "source": []
  }
 ],
 "metadata": {
  "kernelspec": {
   "display_name": "Python 3",
   "language": "python",
   "name": "python3"
  },
  "language_info": {
   "codemirror_mode": {
    "name": "ipython",
    "version": 3
   },
   "file_extension": ".py",
   "mimetype": "text/x-python",
   "name": "python",
   "nbconvert_exporter": "python",
   "pygments_lexer": "ipython3",
   "version": "3.7.4"
  },
  "vscode": {
   "interpreter": {
    "hash": "4da5de3bdb74a99190c5f8f7a7d74eee14598c1630ede76a7e2e31b50e0f5678"
   }
  }
 },
 "nbformat": 4,
 "nbformat_minor": 2
}
