{
 "cells": [
  {
   "cell_type": "code",
   "execution_count": 1,
   "metadata": {
    "scrolled": true
   },
   "outputs": [],
   "source": [
    "import networkx as nx\n",
    "from networkx.algorithms import community\n",
    "from community import community_louvain\n",
    "import numpy as np\n",
    "import scipy as sp\n",
    "import pandas as pd\n",
    "import markov_clustering as mc\n",
    "import pickle"
   ]
  },
  {
   "cell_type": "code",
   "execution_count": 2,
   "metadata": {},
   "outputs": [],
   "source": [
    "## preprocessing\n",
    "G0 = nx.read_weighted_edgelist(\"4932.protein.links.v11.5.txt\",comments=\"#\",nodetype=str)\n"
   ]
  },
  {
   "cell_type": "code",
   "execution_count": 3,
   "metadata": {},
   "outputs": [],
   "source": [
    "essential_proteins = pd.read_csv(\"essential_proteins.csv\", header = None)\n",
    "\n",
    "for node in list(G0.nodes()):\n",
    "    if node[5:] in list(essential_proteins[1]):\n",
    "        G0.remove_node(node)"
   ]
  },
  {
   "cell_type": "code",
   "execution_count": 4,
   "metadata": {},
   "outputs": [],
   "source": [
    "largest_cc = max(nx.connected_components(G0),key=len)\n",
    "G = G0.subgraph(largest_cc)"
   ]
  },
  {
   "cell_type": "code",
   "execution_count": 16,
   "metadata": {},
   "outputs": [],
   "source": [
    "centrality = nx.eigenvector_centrality(G)\n",
    "centrality = sorted((v, f\"{c:0.2f}\") for v, c in centrality.items())"
   ]
  },
  {
   "cell_type": "code",
   "execution_count": 10,
   "metadata": {},
   "outputs": [
    {
     "name": "stdout",
     "output_type": "stream",
     "text": [
      "['4932.YGL007W', '4932.YOR183W', '4932.YOL075C', '4932.YDR528W', '4932.YMR169C']\n",
      "['4932.YMR232W', '4932.YLR398C', '4932.YPR061C', '4932.YGR286C', '4932.YOL052C-A']\n",
      "['4932.YER066C-A', '4932.YHR151C', '4932.YLR040C', '4932.YFL064C', '4932.YMR230W-A']\n",
      "['4932.YPR007C', '4932.YGL089C', '4932.YOL015W', '4932.YOR343W-A', '4932.YLR250W']\n",
      "['4932.YBL100W-C', '4932.YIL141W', '4932.YDR365W-B', '4932.YLR160C', '4932.YAR064W']\n"
     ]
    }
   ],
   "source": [
    "with open('neighbouring_clusters_complete_mean_minus.pickle', 'rb') as f:\n",
    "    neighbours = pickle.load(f)\n",
    "max_centrality_nodes=[] \n",
    "for cluster in neighbours[0:5]:\n",
    "    cluster_centrality = {k: centrality[k] for k in cluster}\n",
    "    maxes = []\n",
    "    for i in range(5):\n",
    "        currentmax = max(cluster_centrality, key=cluster_centrality.get)\n",
    "        maxes.append(currentmax)\n",
    "        del cluster_centrality[currentmax]\n",
    "    max_centrality_nodes.append(maxes)\n",
    "# max_centrality_nodes[i] is the node with maximum centrality from cluster i\n",
    "max_centrality_nodes\n",
    "node_names = list(G.nodes())\n",
    "\n",
    "for cluster in max_centrality_nodes:\n",
    "    group = []\n",
    "    for node in cluster:\n",
    "        group.append(node_names[node])\n",
    "    print(group)"
   ]
  },
  {
   "cell_type": "code",
   "execution_count": 12,
   "metadata": {},
   "outputs": [
    {
     "ename": "KeyboardInterrupt",
     "evalue": "",
     "output_type": "error",
     "traceback": [
      "\u001b[1;31m---------------------------------------------------------------------------\u001b[0m",
      "\u001b[1;31mKeyboardInterrupt\u001b[0m                         Traceback (most recent call last)",
      "\u001b[1;32m<ipython-input-12-b4f87b1c8194>\u001b[0m in \u001b[0;36m<module>\u001b[1;34m\u001b[0m\n\u001b[0;32m      5\u001b[0m     \u001b[0mtarget\u001b[0m \u001b[1;33m=\u001b[0m \u001b[0mpickle\u001b[0m\u001b[1;33m.\u001b[0m\u001b[0mload\u001b[0m\u001b[1;33m(\u001b[0m\u001b[0mf\u001b[0m\u001b[1;33m)\u001b[0m\u001b[1;33m\u001b[0m\u001b[1;33m\u001b[0m\u001b[0m\n\u001b[0;32m      6\u001b[0m \u001b[1;33m\u001b[0m\u001b[0m\n\u001b[1;32m----> 7\u001b[1;33m \u001b[0mbetweenness\u001b[0m \u001b[1;33m=\u001b[0m \u001b[0mpair_community_betweenness\u001b[0m\u001b[1;33m(\u001b[0m\u001b[0mtarget\u001b[0m\u001b[1;33m,\u001b[0m\u001b[0mneighbours\u001b[0m\u001b[1;33m[\u001b[0m\u001b[1;36m0\u001b[0m\u001b[1;33m]\u001b[0m\u001b[1;33m,\u001b[0m \u001b[0mG\u001b[0m\u001b[1;33m.\u001b[0m\u001b[0msubgraph\u001b[0m\u001b[1;33m(\u001b[0m\u001b[0mtarget\u001b[0m\u001b[1;33m.\u001b[0m\u001b[0munion\u001b[0m\u001b[1;33m(\u001b[0m\u001b[0mneighbours\u001b[0m\u001b[1;33m[\u001b[0m\u001b[1;36m0\u001b[0m\u001b[1;33m]\u001b[0m\u001b[1;33m)\u001b[0m\u001b[1;33m)\u001b[0m\u001b[1;33m)\u001b[0m\u001b[1;33m\u001b[0m\u001b[1;33m\u001b[0m\u001b[0m\n\u001b[0m\u001b[0;32m      8\u001b[0m \u001b[0mbetweenness\u001b[0m \u001b[1;33m=\u001b[0m \u001b[1;33m{\u001b[0m\u001b[0mk\u001b[0m\u001b[1;33m:\u001b[0m\u001b[0mv\u001b[0m \u001b[1;32mfor\u001b[0m \u001b[0mk\u001b[0m\u001b[1;33m,\u001b[0m\u001b[0mv\u001b[0m \u001b[1;32min\u001b[0m \u001b[0msorted\u001b[0m\u001b[1;33m(\u001b[0m\u001b[0mbetweenness\u001b[0m\u001b[1;33m.\u001b[0m\u001b[0mitems\u001b[0m\u001b[1;33m(\u001b[0m\u001b[1;33m)\u001b[0m\u001b[1;33m,\u001b[0m \u001b[0mkey\u001b[0m\u001b[1;33m=\u001b[0m\u001b[1;32mlambda\u001b[0m \u001b[0mitem\u001b[0m\u001b[1;33m:\u001b[0m \u001b[0mitem\u001b[0m\u001b[1;33m[\u001b[0m\u001b[1;36m1\u001b[0m\u001b[1;33m]\u001b[0m\u001b[1;33m,\u001b[0m \u001b[0mreverse\u001b[0m\u001b[1;33m=\u001b[0m\u001b[1;32mTrue\u001b[0m\u001b[1;33m)\u001b[0m\u001b[1;33m}\u001b[0m\u001b[1;33m\u001b[0m\u001b[1;33m\u001b[0m\u001b[0m\n\u001b[0;32m      9\u001b[0m \u001b[1;33m\u001b[0m\u001b[0m\n",
      "\u001b[1;32mc:\\Users\\Matthias\\Desktop\\3888\\math3888-network-project\\pair_community_betweenness.ipynb\u001b[0m in \u001b[0;36mpair_community_betweenness\u001b[1;34m(target_community, neighbour_community, graph)\u001b[0m\n\u001b[0;32m     21\u001b[0m     \u001b[1;34m\"\\n\"\u001b[0m\u001b[1;33m,\u001b[0m\u001b[1;33m\u001b[0m\u001b[1;33m\u001b[0m\u001b[0m\n\u001b[0;32m     22\u001b[0m     \u001b[1;34m\"    # dictionary, key: each node name in neighbour community, value: centrality\\n\"\u001b[0m\u001b[1;33m,\u001b[0m\u001b[1;33m\u001b[0m\u001b[1;33m\u001b[0m\u001b[0m\n\u001b[1;32m---> 23\u001b[1;33m     \u001b[1;34m\"    centrality = {}\\n\"\u001b[0m\u001b[1;33m,\u001b[0m\u001b[1;33m\u001b[0m\u001b[1;33m\u001b[0m\u001b[0m\n\u001b[0m\u001b[0;32m     24\u001b[0m     \u001b[1;34m\"\\n\"\u001b[0m\u001b[1;33m,\u001b[0m\u001b[1;33m\u001b[0m\u001b[1;33m\u001b[0m\u001b[0m\n\u001b[0;32m     25\u001b[0m     \u001b[1;34m\"    for node in neighbour_community:\\n\"\u001b[0m\u001b[1;33m,\u001b[0m\u001b[1;33m\u001b[0m\u001b[1;33m\u001b[0m\u001b[0m\n",
      "\u001b[1;32mc:\\Users\\Matthias\\Anaconda3\\lib\\site-packages\\networkx\\algorithms\\shortest_paths\\generic.py\u001b[0m in \u001b[0;36mall_shortest_paths\u001b[1;34m(G, source, target, weight, method)\u001b[0m\n\u001b[0;32m    467\u001b[0m     \u001b[0mmethod\u001b[0m \u001b[1;33m=\u001b[0m \u001b[1;34m'unweighted'\u001b[0m \u001b[1;32mif\u001b[0m \u001b[0mweight\u001b[0m \u001b[1;32mis\u001b[0m \u001b[1;32mNone\u001b[0m \u001b[1;32melse\u001b[0m \u001b[0mmethod\u001b[0m\u001b[1;33m\u001b[0m\u001b[1;33m\u001b[0m\u001b[0m\n\u001b[0;32m    468\u001b[0m     \u001b[1;32mif\u001b[0m \u001b[0mmethod\u001b[0m \u001b[1;33m==\u001b[0m \u001b[1;34m'unweighted'\u001b[0m\u001b[1;33m:\u001b[0m\u001b[1;33m\u001b[0m\u001b[1;33m\u001b[0m\u001b[0m\n\u001b[1;32m--> 469\u001b[1;33m         \u001b[0mpred\u001b[0m \u001b[1;33m=\u001b[0m \u001b[0mnx\u001b[0m\u001b[1;33m.\u001b[0m\u001b[0mpredecessor\u001b[0m\u001b[1;33m(\u001b[0m\u001b[0mG\u001b[0m\u001b[1;33m,\u001b[0m \u001b[0msource\u001b[0m\u001b[1;33m)\u001b[0m\u001b[1;33m\u001b[0m\u001b[1;33m\u001b[0m\u001b[0m\n\u001b[0m\u001b[0;32m    470\u001b[0m     \u001b[1;32melif\u001b[0m \u001b[0mmethod\u001b[0m \u001b[1;33m==\u001b[0m \u001b[1;34m'dijkstra'\u001b[0m\u001b[1;33m:\u001b[0m\u001b[1;33m\u001b[0m\u001b[1;33m\u001b[0m\u001b[0m\n\u001b[0;32m    471\u001b[0m         pred, dist = nx.dijkstra_predecessor_and_distance(G, source,\n",
      "\u001b[1;32mc:\\Users\\Matthias\\Anaconda3\\lib\\site-packages\\networkx\\algorithms\\shortest_paths\\unweighted.py\u001b[0m in \u001b[0;36mpredecessor\u001b[1;34m(G, source, target, cutoff, return_seen)\u001b[0m\n\u001b[0;32m    505\u001b[0m         \u001b[0mnextlevel\u001b[0m \u001b[1;33m=\u001b[0m \u001b[1;33m[\u001b[0m\u001b[1;33m]\u001b[0m\u001b[1;33m\u001b[0m\u001b[1;33m\u001b[0m\u001b[0m\n\u001b[0;32m    506\u001b[0m         \u001b[1;32mfor\u001b[0m \u001b[0mv\u001b[0m \u001b[1;32min\u001b[0m \u001b[0mthislevel\u001b[0m\u001b[1;33m:\u001b[0m\u001b[1;33m\u001b[0m\u001b[1;33m\u001b[0m\u001b[0m\n\u001b[1;32m--> 507\u001b[1;33m             \u001b[1;32mfor\u001b[0m \u001b[0mw\u001b[0m \u001b[1;32min\u001b[0m \u001b[0mG\u001b[0m\u001b[1;33m[\u001b[0m\u001b[0mv\u001b[0m\u001b[1;33m]\u001b[0m\u001b[1;33m:\u001b[0m\u001b[1;33m\u001b[0m\u001b[1;33m\u001b[0m\u001b[0m\n\u001b[0m\u001b[0;32m    508\u001b[0m                 \u001b[1;32mif\u001b[0m \u001b[0mw\u001b[0m \u001b[1;32mnot\u001b[0m \u001b[1;32min\u001b[0m \u001b[0mseen\u001b[0m\u001b[1;33m:\u001b[0m\u001b[1;33m\u001b[0m\u001b[1;33m\u001b[0m\u001b[0m\n\u001b[0;32m    509\u001b[0m                     \u001b[0mpred\u001b[0m\u001b[1;33m[\u001b[0m\u001b[0mw\u001b[0m\u001b[1;33m]\u001b[0m \u001b[1;33m=\u001b[0m \u001b[1;33m[\u001b[0m\u001b[0mv\u001b[0m\u001b[1;33m]\u001b[0m\u001b[1;33m\u001b[0m\u001b[1;33m\u001b[0m\u001b[0m\n",
      "\u001b[1;32mc:\\Users\\Matthias\\Anaconda3\\lib\\site-packages\\networkx\\classes\\coreviews.py\u001b[0m in \u001b[0;36m<genexpr>\u001b[1;34m(.0)\u001b[0m\n\u001b[0;32m    274\u001b[0m         \u001b[1;32mif\u001b[0m \u001b[0mnode_ok_shorter\u001b[0m\u001b[1;33m:\u001b[0m\u001b[1;33m\u001b[0m\u001b[1;33m\u001b[0m\u001b[0m\n\u001b[0;32m    275\u001b[0m             \u001b[1;32mreturn\u001b[0m \u001b[1;33m(\u001b[0m\u001b[0mn\u001b[0m \u001b[1;32mfor\u001b[0m \u001b[0mn\u001b[0m \u001b[1;32min\u001b[0m \u001b[0mself\u001b[0m\u001b[1;33m.\u001b[0m\u001b[0mNODE_OK\u001b[0m\u001b[1;33m.\u001b[0m\u001b[0mnodes\u001b[0m \u001b[1;32mif\u001b[0m \u001b[0mn\u001b[0m \u001b[1;32min\u001b[0m \u001b[0mself\u001b[0m\u001b[1;33m.\u001b[0m\u001b[0m_atlas\u001b[0m\u001b[1;33m)\u001b[0m\u001b[1;33m\u001b[0m\u001b[1;33m\u001b[0m\u001b[0m\n\u001b[1;32m--> 276\u001b[1;33m         \u001b[1;32mreturn\u001b[0m \u001b[1;33m(\u001b[0m\u001b[0mn\u001b[0m \u001b[1;32mfor\u001b[0m \u001b[0mn\u001b[0m \u001b[1;32min\u001b[0m \u001b[0mself\u001b[0m\u001b[1;33m.\u001b[0m\u001b[0m_atlas\u001b[0m \u001b[1;32mif\u001b[0m \u001b[0mself\u001b[0m\u001b[1;33m.\u001b[0m\u001b[0mNODE_OK\u001b[0m\u001b[1;33m(\u001b[0m\u001b[0mn\u001b[0m\u001b[1;33m)\u001b[0m\u001b[1;33m)\u001b[0m\u001b[1;33m\u001b[0m\u001b[1;33m\u001b[0m\u001b[0m\n\u001b[0m\u001b[0;32m    277\u001b[0m \u001b[1;33m\u001b[0m\u001b[0m\n\u001b[0;32m    278\u001b[0m     \u001b[1;32mdef\u001b[0m \u001b[0m__getitem__\u001b[0m\u001b[1;33m(\u001b[0m\u001b[0mself\u001b[0m\u001b[1;33m,\u001b[0m \u001b[0mkey\u001b[0m\u001b[1;33m)\u001b[0m\u001b[1;33m:\u001b[0m\u001b[1;33m\u001b[0m\u001b[1;33m\u001b[0m\u001b[0m\n",
      "\u001b[1;31mKeyboardInterrupt\u001b[0m: "
     ]
    }
   ],
   "source": [
    "from ipynb.fs.full.pair_community_betweenness import pair_community_betweenness\n",
    "with open('neighbouring_clusters_bet.pickle', 'rb') as f:\n",
    "    neighbours = pickle.load(f)\n",
    "with open('target_cluster_bet.pickle', 'rb') as f:\n",
    "    target = pickle.load(f)\n",
    "\n",
    "betweenness = pair_community_betweenness(target,neighbours[0], G.subgraph(target.union(neighbours[0])))\n",
    "betweenness = {k:v for k,v in sorted(betweenness.items(), key=lambda item: item[1], reverse=True)}\n",
    "    \n",
    "print(betweenness)\n"
   ]
  },
  {
   "cell_type": "code",
   "execution_count": 20,
   "metadata": {},
   "outputs": [
    {
     "name": "stdout",
     "output_type": "stream",
     "text": [
      "['4932.YGL007W', '4932.YOR183W', '4932.YOL075C', '4932.YDR528W', '4932.YMR169C']\n",
      "['4932.YMR232W', '4932.YLR398C', '4932.YPR061C', '4932.YGR286C', '4932.YOL052C-A']\n",
      "['4932.YER066C-A', '4932.YHR151C', '4932.YLR040C', '4932.YFL064C', '4932.YMR230W-A']\n",
      "['4932.YPR007C', '4932.YGL089C', '4932.YOL015W', '4932.YOR343W-A', '4932.YLR250W']\n",
      "['4932.YBL100W-C', '4932.YIL141W', '4932.YDR365W-B', '4932.YLR160C', '4932.YAR064W']\n"
     ]
    }
   ],
   "source": [
    "max_centrality_nodes=[] \n",
    "for cluster in neighbours[0:5]:\n",
    "    cluster_centrality = {k: centrality[k] for k in cluster}\n",
    "    maxes = []\n",
    "    for i in range(5):\n",
    "        currentmax = max(cluster_centrality, key=cluster_centrality.get)\n",
    "        maxes.append(currentmax)\n",
    "        del cluster_centrality[currentmax]\n",
    "    max_centrality_nodes.append(maxes)\n",
    "# max_centrality_nodes[i] is the node with maximum centrality from cluster i\n",
    "max_centrality_nodes\n",
    "node_names = list(G.nodes())\n",
    "\n",
    "for cluster in max_centrality_nodes:\n",
    "    group = []\n",
    "    for node in cluster:\n",
    "        group.append(node_names[node])\n",
    "    print(group)"
   ]
  },
  {
   "cell_type": "code",
   "execution_count": 21,
   "metadata": {
    "scrolled": false
   },
   "outputs": [],
   "source": [
    "with open('neighbouring_clusters_sum.pickle', 'rb') as f:\n",
    "    neighbours = pickle.load(f)\n",
    "    #for i in range(len(neighbours)):\n",
    "        #print(len(neighbours[i].intersection(neighbours2[i]))/len(neighbours[i].union(neighbours2[i])))\n",
    "\n",
    "max_centrality_nodes=[] \n",
    "for cluster in neighbours[0:5]:\n",
    "    cluster_centrality = {k: centrality[k] for k in cluster}\n",
    "    maxes = []\n",
    "    for i in range(5):\n",
    "        currentmax = max(cluster_centrality, key=cluster_centrality.get)\n",
    "        maxes.append(currentmax)\n",
    "        del cluster_centrality[currentmax]\n",
    "    max_centrality_nodes.append(maxes)\n",
    "# max_centrality_nodes[i] is the node with maximum centrality from cluster i"
   ]
  },
  {
   "cell_type": "code",
   "execution_count": 22,
   "metadata": {},
   "outputs": [
    {
     "name": "stdout",
     "output_type": "stream",
     "text": [
      "['4932.YGL007W', '4932.YOR183W', '4932.YOL075C', '4932.YDR528W', '4932.YMR169C']\n",
      "['4932.YPR007C', '4932.YGL089C', '4932.YOL015W', '4932.YOR343W-A', '4932.YLR250W']\n",
      "['4932.YER066C-A', '4932.YHR151C', '4932.YLR040C', '4932.YFL064C', '4932.YMR230W-A']\n",
      "['4932.YAR066W', '4932.YER137C-A', '4932.YLR091W', '4932.YAL031C', '4932.YOR348C']\n",
      "['4932.YBL100W-C', '4932.YIL141W', '4932.YDR365W-B', '4932.YLR160C', '4932.YAR064W']\n"
     ]
    }
   ],
   "source": [
    "max_centrality_nodes\n",
    "node_names = list(G.nodes())\n",
    "\n",
    "for cluster in max_centrality_nodes:\n",
    "    group = []\n",
    "    for node in cluster:\n",
    "        group.append(node_names[node])\n",
    "    print(group)"
   ]
  },
  {
   "cell_type": "code",
   "execution_count": 23,
   "metadata": {},
   "outputs": [],
   "source": [
    "with open('neighbouring_clusters_minus.pickle', 'rb') as f:\n",
    "    neighbours = pickle.load(f)\n",
    "max_centrality_nodes=[] \n",
    "for cluster in neighbours[0:5]:\n",
    "    cluster_centrality = {k: centrality[k] for k in cluster}\n",
    "    maxes = []\n",
    "    for i in range(5):\n",
    "        currentmax = max(cluster_centrality, key=cluster_centrality.get)\n",
    "        maxes.append(currentmax)\n",
    "        del cluster_centrality[currentmax]\n",
    "    max_centrality_nodes.append(maxes)\n",
    "# max_centrality_nodes[i] is the node with maximum centrality from cluster i"
   ]
  },
  {
   "cell_type": "code",
   "execution_count": 24,
   "metadata": {},
   "outputs": [
    {
     "name": "stdout",
     "output_type": "stream",
     "text": [
      "['4932.YGL007W', '4932.YOR183W', '4932.YOL075C', '4932.YDR528W', '4932.YMR169C']\n",
      "['4932.YPR007C', '4932.YGL089C', '4932.YOL015W', '4932.YOR343W-A', '4932.YLR250W']\n",
      "['4932.YER066C-A', '4932.YHR151C', '4932.YLR040C', '4932.YFL064C', '4932.YMR230W-A']\n",
      "['4932.YAR066W', '4932.YER137C-A', '4932.YLR091W', '4932.YAL031C', '4932.YOR348C']\n",
      "['4932.YBL100W-C', '4932.YIL141W', '4932.YDR365W-B', '4932.YLR160C', '4932.YAR064W']\n"
     ]
    }
   ],
   "source": [
    "max_centrality_nodes\n",
    "node_names = list(G.nodes())\n",
    "\n",
    "for cluster in max_centrality_nodes:\n",
    "    group = []\n",
    "    for node in cluster:\n",
    "        group.append(node_names[node])\n",
    "    print(group)\n"
   ]
  },
  {
   "cell_type": "code",
   "execution_count": 25,
   "metadata": {},
   "outputs": [
    {
     "name": "stdout",
     "output_type": "stream",
     "text": [
      "['4932.YGL007W', '4932.YOR183W', '4932.YOL075C', '4932.YDR528W', '4932.YMR169C']\n",
      "['4932.YPR007C', '4932.YGL089C', '4932.YOL015W', '4932.YOR343W-A', '4932.YLR250W']\n",
      "['4932.YER066C-A', '4932.YHR151C', '4932.YLR040C', '4932.YFL064C', '4932.YMR230W-A']\n",
      "['4932.YAR066W', '4932.YER137C-A', '4932.YLR091W', '4932.YAL031C', '4932.YOR348C']\n",
      "['4932.YBL100W-C', '4932.YIL141W', '4932.YDR365W-B', '4932.YLR160C', '4932.YAR064W']\n"
     ]
    }
   ],
   "source": [
    "centrality = nx.degree_centrality(G)\n",
    "centrality = sorted((v, f\"{c:0.2f}\") for v, c in centrality.items())\n",
    "with open('neighbouring_clusters_sum.pickle', 'rb') as f:\n",
    "    neighbours = pickle.load(f)\n",
    "max_centrality_nodes=[] \n",
    "for cluster in neighbours[0:5]:\n",
    "    cluster_centrality = {k: centrality[k] for k in cluster}\n",
    "    maxes = []\n",
    "    for i in range(5):\n",
    "        currentmax = max(cluster_centrality, key=cluster_centrality.get)\n",
    "        maxes.append(currentmax)\n",
    "        del cluster_centrality[currentmax]\n",
    "    max_centrality_nodes.append(maxes)\n",
    "# max_centrality_nodes[i] is the node with maximum centrality from cluster i\n",
    "max_centrality_nodes\n",
    "node_names = list(G.nodes())\n",
    "\n",
    "for cluster in max_centrality_nodes:\n",
    "    group = []\n",
    "    for node in cluster:\n",
    "        group.append(node_names[node])\n",
    "    print(group)"
   ]
  },
  {
   "cell_type": "code",
   "execution_count": null,
   "metadata": {},
   "outputs": [],
   "source": []
  }
 ],
 "metadata": {
  "kernelspec": {
   "display_name": "Python 3",
   "language": "python",
   "name": "python3"
  },
  "language_info": {
   "codemirror_mode": {
    "name": "ipython",
    "version": 3
   },
   "file_extension": ".py",
   "mimetype": "text/x-python",
   "name": "python",
   "nbconvert_exporter": "python",
   "pygments_lexer": "ipython3",
   "version": "3.7.4"
  },
  "vscode": {
   "interpreter": {
    "hash": "4da5de3bdb74a99190c5f8f7a7d74eee14598c1630ede76a7e2e31b50e0f5678"
   }
  }
 },
 "nbformat": 4,
 "nbformat_minor": 2
}
