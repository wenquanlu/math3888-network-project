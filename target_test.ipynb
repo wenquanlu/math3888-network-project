{
 "cells": [
  {
   "cell_type": "code",
   "execution_count": 1,
   "metadata": {},
   "outputs": [],
   "source": [
    "import networkx as nx\n",
    "from networkx.algorithms import community\n",
    "from community import community_louvain\n",
    "import numpy as np\n",
    "import scipy as sp\n",
    "import pandas as pd\n",
    "import markov_clustering as mc\n",
    "import pickle"
   ]
  },
  {
   "cell_type": "code",
   "execution_count": 26,
   "metadata": {},
   "outputs": [],
   "source": [
    "with open('target_cluster.pickle', 'rb') as f:\n",
    "    target = pickle.load(f)\n",
    "target = {x.replace('4932.','') for x in target}"
   ]
  },
  {
   "cell_type": "markdown",
   "metadata": {},
   "source": [
    "COX1 = Q0045\n",
    "COX2 = Q0250\n",
    "COX3 = Q0275\n",
    "COX4 = YGL187C\n",
    "COX5A = YNL052W\n",
    "COX* = "
   ]
  },
  {
   "cell_type": "code",
   "execution_count": 27,
   "metadata": {},
   "outputs": [
    {
     "name": "stdout",
     "output_type": "stream",
     "text": [
      "Is Q0045 in the target: True\n",
      "Is Q0250 in the target: True\n",
      "Is Q0275 in the target: True\n",
      "Is YGL187C in the target: True\n",
      "Is YNL052W in the target: True\n",
      "Is YLR395C in the target: True\n"
     ]
    }
   ],
   "source": [
    "COXproteins = ['Q0045', 'Q0250', 'Q0275', 'YGL187C', 'YNL052W', 'YLR395C']\n",
    "for x in COXproteins:\n",
    "    print('Is', x, 'in the target:', x in target)\n",
    "\n"
   ]
  },
  {
   "cell_type": "code",
   "execution_count": 28,
   "metadata": {},
   "outputs": [
    {
     "data": {
      "text/plain": [
       "92"
      ]
     },
     "execution_count": 28,
     "metadata": {},
     "output_type": "execute_result"
    }
   ],
   "source": [
    "len(target)"
   ]
  },
  {
   "cell_type": "code",
   "execution_count": null,
   "metadata": {},
   "outputs": [],
   "source": []
  }
 ],
 "metadata": {
  "kernelspec": {
   "display_name": "Python 3",
   "language": "python",
   "name": "python3"
  },
  "language_info": {
   "codemirror_mode": {
    "name": "ipython",
    "version": 3
   },
   "file_extension": ".py",
   "mimetype": "text/x-python",
   "name": "python",
   "nbconvert_exporter": "python",
   "pygments_lexer": "ipython3",
   "version": "3.7.4"
  }
 },
 "nbformat": 4,
 "nbformat_minor": 2
}
